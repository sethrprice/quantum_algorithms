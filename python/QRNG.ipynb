{
 "cells": [
  {
   "cell_type": "markdown",
   "metadata": {},
   "source": [
    "# Quantum Random Number Generator"
   ]
  },
  {
   "cell_type": "markdown",
   "metadata": {},
   "source": [
    "## Step 0: Import"
   ]
  },
  {
   "cell_type": "code",
   "execution_count": 6,
   "metadata": {},
   "outputs": [],
   "source": [
    "from qiskit import QuantumCircuit, transpile\n",
    "from qiskit_aer import AerSimulator\n",
    "import numpy as np"
   ]
  },
  {
   "cell_type": "markdown",
   "metadata": {},
   "source": [
    "## Step 1: Prepare Quantum Circuit and Simulate"
   ]
  },
  {
   "cell_type": "code",
   "execution_count": 7,
   "metadata": {},
   "outputs": [],
   "source": [
    "def quantum_random_bits(num_qubits):\n",
    "    random_bits = []\n",
    "    simulator = AerSimulator()\n",
    "    for _ in range(num_qubits):\n",
    "        # construct quantum circuit with one qubit\n",
    "        qc = QuantumCircuit(1, 1)\n",
    "\n",
    "        # apply Hadamard gate to set up a superposition\n",
    "        qc.h(0)\n",
    "\n",
    "        # measure the qubit\n",
    "        qc.measure(0, 0)\n",
    "\n",
    "        # simulate the circuit\n",
    "        circ = transpile(qc, simulator)\n",
    "        result = simulator.run(circ).result()\n",
    "        counts = result.get_counts()\n",
    "\n",
    "        # extract measurement\n",
    "        random_bits.append(int(list(counts.keys())[0]))\n",
    "\n",
    "    return random_bits\n",
    "        "
   ]
  },
  {
   "cell_type": "markdown",
   "metadata": {},
   "source": [
    "## Step 2: Test"
   ]
  },
  {
   "cell_type": "code",
   "execution_count": 22,
   "metadata": {},
   "outputs": [
    {
     "name": "stdout",
     "output_type": "stream",
     "text": [
      "Random bits: [1, 0, 0, 0, 0, 0, 0, 0, 0, 1]\n"
     ]
    }
   ],
   "source": [
    "num_qubits = 10\n",
    "random_bits = quantum_random_bits(num_qubits)\n",
    "print(f\"Random bits: {random_bits}\")"
   ]
  },
  {
   "cell_type": "code",
   "execution_count": 23,
   "metadata": {},
   "outputs": [
    {
     "name": "stdout",
     "output_type": "stream",
     "text": [
      "Random number is 513\n"
     ]
    }
   ],
   "source": [
    "def random_bits_to_int(random_bits):\n",
    "    return sum(c << i for i, c in enumerate(random_bits))\n",
    "\n",
    "random_number_output = random_bits_to_int(random_bits)\n",
    "print(f\"Random number is {random_number_output}\")"
   ]
  }
 ],
 "metadata": {
  "kernelspec": {
   "display_name": ".venv",
   "language": "python",
   "name": "python3"
  },
  "language_info": {
   "codemirror_mode": {
    "name": "ipython",
    "version": 3
   },
   "file_extension": ".py",
   "mimetype": "text/x-python",
   "name": "python",
   "nbconvert_exporter": "python",
   "pygments_lexer": "ipython3",
   "version": "3.10.11"
  }
 },
 "nbformat": 4,
 "nbformat_minor": 2
}
